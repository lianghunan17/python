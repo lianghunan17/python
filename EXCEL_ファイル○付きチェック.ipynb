{
  "nbformat": 4,
  "nbformat_minor": 0,
  "metadata": {
    "colab": {
      "provenance": [],
      "authorship_tag": "ABX9TyPn7EHLKEgE88MjwsmyYsYO",
      "include_colab_link": true
    },
    "kernelspec": {
      "name": "python3",
      "display_name": "Python 3"
    },
    "language_info": {
      "name": "python"
    }
  },
  "cells": [
    {
      "cell_type": "markdown",
      "metadata": {
        "id": "view-in-github",
        "colab_type": "text"
      },
      "source": [
        "<a href=\"https://colab.research.google.com/github/lianghunan17/python/blob/master/EXCEL_%E3%83%95%E3%82%A1%E3%82%A4%E3%83%AB%E2%97%8B%E4%BB%98%E3%81%8D%E3%83%81%E3%82%A7%E3%83%83%E3%82%AF.ipynb\" target=\"_parent\"><img src=\"https://colab.research.google.com/assets/colab-badge.svg\" alt=\"Open In Colab\"/></a>"
      ]
    },
    {
      "cell_type": "code",
      "execution_count": null,
      "metadata": {
        "id": "JPm8zzZxNamf"
      },
      "outputs": [],
      "source": [
        "import openpyxl\n",
        "from openpyxl.styles import PatternFill, Alignment\n",
        "from openpyxl.utils import get_column_letter\n",
        "\n",
        "# Excel ファイルを開く\n",
        "wb = openpyxl.load_workbook('/content/データ仕分けツール新 .xlsx')\n",
        "\n",
        "# \"データ_仕分け\" シートを取得\n",
        "data_sheet = wb['データ_仕分け']\n",
        "\n",
        "# B8 セルから始まるB列の全てのシート名を取得\n",
        "sheet_names = [cell[0].value for cell in data_sheet['B8':f'B{data_sheet.max_row}'] if cell[0].value is not None]\n",
        "\n",
        "# 新しいWorkbookを作成\n",
        "new_wb = openpyxl.Workbook()\n",
        "\n",
        "# 最初のSheetを削除\n",
        "default_sheet = new_wb['Sheet']\n",
        "new_wb.remove(default_sheet)\n",
        "\n",
        "# 各シート名に対して処理を実行\n",
        "for sheet_name in sheet_names:\n",
        "    sheet = wb[sheet_name.strip()]  # シート名の前後の空白を削除\n",
        "\n",
        "    # D列のユニークな値を取得\n",
        "    unique_D_values = list(set([cell.value for cell in sheet['D'] if cell.value is not None]))\n",
        "\n",
        "    # C列のユニークな値を取得\n",
        "    unique_C_values = list(set([cell.value for cell in sheet['C'] if cell.value is not None]))\n",
        "\n",
        "    # 新しいシートを作成\n",
        "    new_sheet = new_wb.create_sheet(title=f\"{sheet_name.strip()}〇\")\n",
        "\n",
        "    # 新しいシートにD列のユニークな値をB2から横並びに張り付ける\n",
        "    for i, value in enumerate(unique_D_values, start=2):\n",
        "        new_sheet.cell(row=2, column=i, value=value)\n",
        "\n",
        "    # 新しいシートにC列のユニークな値を張り付ける\n",
        "    for i, unique_C_value in enumerate(unique_C_values, start=3):\n",
        "        new_sheet.cell(row=i, column=1, value=unique_C_value)\n",
        "\n",
        "    # 黄色のパターンフィルを作成\n",
        "    yellow_fill = PatternFill(start_color='FFFF00', end_color='FFFF00', fill_type='solid')\n",
        "\n",
        "    # データ_仕分けシートでB2から始まる行値とA列値を参照して検索し、該当する場合は新しいシートに〇をつける\n",
        "    for row in sheet.iter_rows(min_row=2, min_col=1, max_col=sheet.max_column, values_only=True):\n",
        "        for i, unique_D_value in enumerate(unique_D_values, start=2):\n",
        "            for j, unique_C_value in enumerate(unique_C_values, start=3):\n",
        "                if row[3] == unique_D_value and row[2] == unique_C_value:  # Excelの列は0からではなく1から始まるので注意\n",
        "                    new_sheet.cell(row=j, column=i, value=\"〇\")\n",
        "                    new_sheet.cell(row=j, column=i).fill = yellow_fill\n",
        "\n",
        "    # セルの幅を自動調整 (2行目以降の列のみ)\n",
        "    for column in new_sheet.iter_cols(min_col=1, min_row=1):\n",
        "        max_length = max(len(str(cell.value)) for cell in column)\n",
        "        column_letter = get_column_letter(column[0].column)\n",
        "        new_sheet.column_dimensions[column_letter].width = max_length\n",
        "\n",
        "    # セルrange(\"A2\")にデータを追加\n",
        "    new_sheet['A2'].value = 'ー'\n",
        "   \n",
        "    # 新しいシートの行2と3にフィルターを付ける\n",
        "    new_sheet.auto_filter.ref = f\"A2:{get_column_letter(new_sheet.max_column)}3\"\n",
        "\n",
        "\n",
        "    # データをすべて中央に揃える\n",
        "    for row in new_sheet.iter_rows():\n",
        "        for cell in row:\n",
        "            cell.alignment = Alignment(horizontal=\"center\")\n",
        "\n",
        "    # ウインドウ枠の固定 (B2)\n",
        "    new_sheet.freeze_panes = new_sheet['B2']\n",
        "\n",
        "    \n",
        "\n",
        "\n",
        "    # 新しいWorkbookを保存\n",
        "    new_wb.save('/content/○付き確認.xlsx')\n"
      ]
    }
  ]
}