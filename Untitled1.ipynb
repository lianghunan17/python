{
  "nbformat": 4,
  "nbformat_minor": 0,
  "metadata": {
    "colab": {
      "provenance": [],
      "mount_file_id": "1zaxv_AtHgUGdsjmD0Gq2tfW6nqTRbUme",
      "authorship_tag": "ABX9TyMW47sKnVgzcIhAAyog2QET",
      "include_colab_link": true
    },
    "kernelspec": {
      "name": "python3",
      "display_name": "Python 3"
    },
    "language_info": {
      "name": "python"
    }
  },
  "cells": [
    {
      "cell_type": "markdown",
      "metadata": {
        "id": "view-in-github",
        "colab_type": "text"
      },
      "source": [
        "<a href=\"https://colab.research.google.com/github/lianghunan17/python/blob/master/Untitled1.ipynb\" target=\"_parent\"><img src=\"https://colab.research.google.com/assets/colab-badge.svg\" alt=\"Open In Colab\"/></a>"
      ]
    },
    {
      "cell_type": "code",
      "execution_count": null,
      "metadata": {
        "id": "ahG6jrfwGlly"
      },
      "outputs": [],
      "source": [
        "import openpyxl\n",
        "from openpyxl.styles import PatternFill\n",
        "from openpyxl.utils import get_column_letter\n",
        "\n",
        "# Excel ファイルを開く\n",
        "wb = openpyxl.load_workbook('/content/データ仕分けツール新 .xlsx')\n",
        "\n",
        "# \"データ_仕分け\" シートを取得\n",
        "data_sheet = wb['データ_仕分け']\n",
        "\n",
        "# B8 セルからシート名を取得\n",
        "sheet_names = data_sheet['B8'].value.split(',')\n",
        "\n",
        "# 各シート名に対して処理を実行\n",
        "for sheet_name in sheet_names:\n",
        "    sheet = wb[sheet_name.strip()]  # シート名の前後の空白を削除\n",
        "\n",
        "    # D列のユニークな値を取得\n",
        "    unique_D_values = list(set([cell.value for cell in sheet['D'] if cell.value is not None]))\n",
        "\n",
        "    # C列のユニークな値を取得\n",
        "    unique_C_values = list(set([cell.value for cell in sheet['C'] if cell.value is not None]))\n",
        "\n",
        " # 新しいシートを作成, シート名は「データ_仕分け〇付き」\n",
        "    new_sheet = wb.create_sheet(title = f\"{sheet_name.strip()}〇\")\n",
        "\n",
        "   # 新しいシートにD列のユニークな値をB2から横並びに張り付ける\n",
        "for i, value in enumerate(unique_D_values, start=2):\n",
        "    new_sheet.cell(row=2, column=i, value=value)\n",
        "\n",
        "# 新しいシートにC列のユニークな値を張り付ける\n",
        "for i, unique_C_value in enumerate(unique_C_values, start=3):\n",
        "    new_sheet.cell(row=i, column=1, value=unique_C_value)\n",
        "\n",
        "# 黄色のパターンフィルを作成\n",
        "yellow_fill = PatternFill(start_color='FFFF00', end_color='FFFF00', fill_type='solid')\n",
        "\n",
        "# データ_仕分けシートでB2から始まる行値とA列値を参照して検索し、該当する場合は新しいシートに〇をつける\n",
        "for row in sheet.iter_rows(min_row=2, min_col=1, max_col=sheet.max_column, values_only=True):\n",
        "    for i, unique_D_value in enumerate(unique_D_values, start=2):\n",
        "        for j, unique_C_value in enumerate(unique_C_values, start=3):\n",
        "            if row[3] == unique_D_value and row[2] == unique_C_value:  # Excelの列は0からではなく1から始まるので注意\n",
        "                new_sheet.cell(row=j, column=i, value=\"〇\")\n",
        "                new_sheet.cell(row=j, column=i).fill = yellow_fill\n",
        "\n",
        "# セルの幅を自動調整\n",
        "for column_cells in new_sheet.columns:\n",
        "    length = max(len(str(cell.value)) for cell in column_cells)\n",
        "    new_sheet.column_dimensions[get_column_letter(column_cells[0].column)].width = length\n",
        "\n",
        "# 新しいシートの行2にフィルターを付ける\n",
        "new_sheet.auto_filter.ref = new_sheet.dimensions\n",
        "# Excel ファイルを保存\n",
        "wb.save('/content/データ仕分けツール新 .xlsx')\n"
      ]
    },
    {
      "cell_type": "markdown",
      "source": [
        "# 新しいセクション"
      ],
      "metadata": {
        "id": "UCsBW7-1HY4n"
      }
    },
    {
      "cell_type": "code",
      "source": [
        "import openpyxl\n",
        "from openpyxl.styles import PatternFill, Alignment\n",
        "from openpyxl.utils import get_column_letter\n",
        "\n",
        "# Excel ファイルを開く\n",
        "wb = openpyxl.load_workbook('/content/データ仕分けツール新 .xlsx')\n",
        "\n",
        "# \"データ_仕分け\" シートを取得\n",
        "data_sheet = wb['データ_仕分け']\n",
        "\n",
        "# B8 セルから始まるB列の全てのシート名を取得\n",
        "sheet_names = [cell[0].value for cell in data_sheet['B8':f'B{data_sheet.max_row}'] if cell[0].value is not None]\n",
        "\n",
        "# 各シート名に対して処理を実行\n",
        "for sheet_name in sheet_names:\n",
        "    sheet = wb[sheet_name.strip()]  # シート名の前後の空白を削除\n",
        "\n",
        "    # D列のユニークな値を取得\n",
        "    unique_D_values = list(set([cell.value for cell in sheet['D'] if cell.value is not None]))\n",
        "\n",
        "    # C列のユニークな値を取得\n",
        "    unique_C_values = list(set([cell.value for cell in sheet['C'] if cell.value is not None]))\n",
        "\n",
        "    # 新しいシートを作成, シート名は「データ_仕分け〇付き」\n",
        "    new_sheet = wb.create_sheet(title = f\"{sheet_name.strip()}〇\")\n",
        "\n",
        "    # 新しいシートにD列のユニークな値をB2から横並びに張り付ける\n",
        "    for i, value in enumerate(unique_D_values, start=2):\n",
        "        new_sheet.cell(row=2, column=i, value=value)\n",
        "\n",
        "    # 新しいシートにC列のユニークな値を張り付ける\n",
        "    for i, unique_C_value in enumerate(unique_C_values, start=3):\n",
        "        new_sheet.cell(row=i, column=1, value=unique_C_value)\n",
        "\n",
        "    # 黄色のパターンフィルを作成\n",
        "    yellow_fill = PatternFill(start_color='FFFF00', end_color='FFFF00', fill_type='solid')\n",
        "\n",
        "    # データ_仕分けシートでB2から始まる行値とA列値を参照して検索し、該当する場合は新しいシートに〇をつける\n",
        "    for row in sheet.iter_rows(min_row=2, min_col=1, max_col=sheet.max_column, values_only=True):\n",
        "        for i, unique_D_value in enumerate(unique_D_values, start=2):\n",
        "            for j, unique_C_value in enumerate(unique_C_values, start=3):\n",
        "                if row[3] == unique_D_value and row[2] == unique_C_value:  # Excelの列は0からではなく1から始まるので注意\n",
        "                    new_sheet.cell(row=j, column=i, value=\"〇\")\n",
        "                    new_sheet.cell(row=j, column=i).fill = yellow_fill\n",
        "\n",
        "    # セルの幅を自動調整 (A列とB列の2行目のセルに基づいて)\n",
        "    for col in new_sheet.iter_cols(min_col=1, max_col=2):\n",
        "        max_length = max(len(str(cell.value)) for cell in col)\n",
        "        new_sheet.column_dimensions[get_column_letter(col[0].column)].width = max_length\n",
        "\n",
        "    # セルrange(\"A3\")にデータを追加\n",
        "    new_sheet['A2'].value = 'ー'\n",
        "\n",
        "    # 新しいシートの行2と3にフィルターを付ける\n",
        "    new_sheet.auto_filter.ref = f\"A2:{get_column_letter(new_sheet.max_column)}3\"\n",
        "\n",
        "    # データをすべて中央に揃える\n",
        "    for row in new_sheet.iter_rows():\n",
        "        for cell in row:\n",
        "            cell.alignment = Alignment(horizontal=\"center\")\n",
        "\n",
        "# Excel ファイルを保存\n",
        "wb.save('/content/データ仕分けツール新 .xlsx')\n"
      ],
      "metadata": {
        "id": "WKIwSczkXFRN"
      },
      "execution_count": null,
      "outputs": []
    },
    {
      "cell_type": "code",
      "source": [],
      "metadata": {
        "id": "oY9UpOOejRjC"
      },
      "execution_count": null,
      "outputs": []
    }
  ]
}